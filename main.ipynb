{
 "cells": [
  {
   "cell_type": "markdown",
   "metadata": {},
   "source": [
    "# Assessing the Reliability of Water Distribution Systems to Seismic Hazards: A Case Study of Shelby County, TN"
   ]
  },
  {
   "cell_type": "markdown",
   "metadata": {},
   "source": [
    "## 1- Introduction\n",
    "This Jupyter notebook investigates the reliability of water distribution systems (WDS) in the face of seismic hazards. Utilizing the WNTR Python package, we simulate earthquake impacts on the WDS's infrastructure, including pipelines, tanks, and pumps, to understand how such events might compromise serviceability. Our goal is to identify vulnerabilities and evaluate the system's ability to meet demand post-earthquake. Through hydraulic simulations informed by seismic data, we offer insights into enhancing the resilience of water distribution networks. "
   ]
  },
  {
   "cell_type": "markdown",
   "metadata": {},
   "source": [
    "## 2- Setup"
   ]
  },
  {
   "cell_type": "markdown",
   "metadata": {},
   "source": [
    "### 2-1- Importing Dependencies"
   ]
  },
  {
   "cell_type": "code",
   "execution_count": 1,
   "metadata": {},
   "outputs": [],
   "source": [
    "import pandas as pd\n",
    "import numpy as np\n",
    "from scipy.stats import expon, lognorm, poisson\n",
    "import random\n",
    "import wntr\n",
    "from geopy.distance import great_circle"
   ]
  },
  {
   "cell_type": "markdown",
   "metadata": {},
   "source": [
    "### 2-2- Loading and Processing Data\n",
    "In this notebook, we use the Shelby County WDS as our case study. Our analysis requires two types of data: *water distribution system data* and *seismic data*."
   ]
  },
  {
   "cell_type": "markdown",
   "metadata": {},
   "source": [
    "**Water Distribution System Data:**\n",
    "\n",
    "WDS data consists of various attributes related to the water distribution network and is primarily sourced from the [**IN-CORE platform**](https://incore.ncsa.illinois.edu/).\n",
    "\n",
    "* **Nodal Attributes:** Demand and geolocation (latitude/longitude) for each network node.\n",
    "* **Pipeline Attributes:** Diameter and length of all pipelines.\n",
    "* **Network Layout:** Spatial representation of pipes, nodes, tanks, and pumps.\n",
    "* **EPANET File:** A pre-configured EPANET file for accurate water flow and pressure simulations.\r\n"
   ]
  },
  {
   "cell_type": "code",
   "execution_count": 2,
   "metadata": {},
   "outputs": [],
   "source": [
    "# Load the coordinates of pipelines, tanks, and pumps from CSV input files for further analysis.\n",
    "# The coordinates of each pipeline is considered to be the geometric center of the pipeline.\n",
    "pipelines_coordinates = pd.read_csv('input_files/pipelines_coordinates.csv', index_col='pipe_id')\n",
    "tanks_coordinates = pd.read_csv('input_files/tanks_coordinates.csv', index_col='tank_id')\n",
    "pumps_coordinates = pd.read_csv('input_files/pumps_coordinates.csv', index_col='pump_id')"
   ]
  },
  {
   "cell_type": "markdown",
   "metadata": {},
   "source": [
    "**Seismic Data:**\n",
    "\n",
    "In the context of WDSs, there are primarily two types of seismic hazards: (1) *transient ground deformation* (TGD), which occurs due to ground shaking, and (2) *permanent ground deformation* (PGD), which arises from fault displacement, landslides, or liquefaction-induced ground failures. In this study, we specifically focus on the TGD hazard. \n",
    "\n",
    "The necessary seismic data for TGD hazard assessment includes the following:\n",
    "\n",
    "* **Magnitude:** The magnitude of the earthquake.\n",
    "* **Epicenter:** The geographic location (latitude and longitude) of the earthquake's epicenter.\n",
    "* **Depth:** The depth of the earthquake's focus.\n",
    "\n",
    "The seismic data for this study is based on the scenario described by [Adachi and Ellingwood (2006)](https://www.sciencedirect.com/science/article/pii/S0951832006002493)."
   ]
  },
  {
   "cell_type": "code",
   "execution_count": 3,
   "metadata": {},
   "outputs": [],
   "source": [
    "magnitude, epicenter, depth = 7.7, (35.18, -90.18), 10000  # The unit of depth is in m"
   ]
  },
  {
   "cell_type": "markdown",
   "metadata": {},
   "source": [
    "## 3- Simulation\n"
   ]
  },
  {
   "cell_type": "markdown",
   "metadata": {},
   "source": [
    "In this section, we focus on simulating the seismic impacts on the WDS to assess the serviceability of its components. Serviceability is a crucial measure of the system's ability to function effectively post-earthquake. We employ the [**WNTR package**](https://usepa.github.io/WNTR/), a powerful tool for hydraulic simulation, to model the behavior of the damaged WDS under seismic condition."
   ]
  },
  {
   "cell_type": "markdown",
   "metadata": {},
   "source": [
    "### 3-1- Setting Up the Water Distribution System Model"
   ]
  },
  {
   "cell_type": "markdown",
   "metadata": {},
   "source": [
    "The hydraulic demand model in WNTR package is set to Pressure-Dependent Demand (PDD), which adjusts water demand based on the available pressure at each node."
   ]
  },
  {
   "cell_type": "code",
   "execution_count": 4,
   "metadata": {},
   "outputs": [],
   "source": [
    "# Define the WDS model by reading an EPANET input file through WNTR package. \n",
    "wn = wntr.network.WaterNetworkModel('input_files/Shelby_County_WDN.inp')\n",
    "\n",
    "# Set network parameters\n",
    "wn.options.hydraulic.demand_model = 'PDD'    \n",
    "\n",
    "wn.options.hydraulic.minimum_pressure = 3.52  # 5 psi\n",
    "wn.options.hydraulic.required_pressure = 14.06 # 20 psi \n",
    "\n",
    "wn.options.time.duration = 24 * 3600  # 24 hours\n",
    "leak_start_time = 0 * 3600\n",
    "leak_end_time = 24 * 3600"
   ]
  },
  {
   "cell_type": "markdown",
   "metadata": {},
   "source": [
    "### 3-2- Initializing the Earthquake Object"
   ]
  },
  {
   "cell_type": "markdown",
   "metadata": {},
   "source": [
    "In this section, we initialize the earthquake object using the WNTR package, which requires specifying the earthquake's magnitude, epicenter (latitude and longitude), and depth. \n",
    "\n",
    "We then use WNTR's attenuation models to calculate peak ground velocity (PGV) and peak ground acceleration (PGA) values at the location of each pipeline, tank and pump based on their distance from the earthquake's epicenter. \n",
    "\n",
    "The distances are determined using the great-circle function from the Scipy package, which calculates the shortest distance between two points on a sphere's surface based on their longitudes and latitudes, as provided in the input CSV files.\n",
    "\n",
    "For PGA, the following attenuation models are supported in WNTR package:\n",
    "- **Kawashima et al. 1984**\n",
    "- **Baag et al. 1998**\n",
    "- **Lee and Cho 2002**\n",
    "\n",
    "For PGV, the **Yu and Jin (2008)** model is used in WNTR package."
   ]
  },
  {
   "cell_type": "code",
   "execution_count": 5,
   "metadata": {},
   "outputs": [],
   "source": [
    "earthquake = wntr.scenario.Earthquake(epicenter, magnitude, depth) "
   ]
  },
  {
   "cell_type": "markdown",
   "metadata": {},
   "source": [
    "### 3-3- Evaluating Earthquake Effects on Tanks"
   ]
  },
  {
   "cell_type": "markdown",
   "metadata": {},
   "source": [
    "For tanks, serviceability is determined by the ratio of the water level post-earthquake to the original water level. The reduction in water level can result from physical damage to the tank, determined using fragility curves, or due to decreased system pressure caused by damage to water pipelines.\n",
    "\n",
    "In this study, we employ fragility curves defined by [**HAZUS-MH**](https://www.fema.gov/sites/default/files/2020-09/fema_hazus_earthquake-model_technical-manual_2.1.pdf) for tanks, which are represented as lognormal distributions with peak ground acceleration (PGA) as the engineering demand parameter. The corresponding median and lognormal standard deviation (β) values are provided in the following table, with units in g:\n",
    "| Damage State | Median (g) | β   |\n",
    "|--------------|------------|-----|\n",
    "| Minor        | 0.18       | 0.5 |\n",
    "| Moderate     | 0.55       | 0.5 | \n",
    "| Extensive    | 1.15       | 0.6 |\n",
    "| Complete     | 1.50       | 0.6 |\n",
    "\n",
    "For tanks, capacities are adjusted to 60%, 80%, and 90% for extensive, moderate, and minor damage states, respectively **(El-Tawil and Lin 2019)**.\n",
    "\r\n"
   ]
  },
  {
   "cell_type": "code",
   "execution_count": 6,
   "metadata": {},
   "outputs": [],
   "source": [
    "# Lognormal distribution parameters for each damage state (median, beta) of the tanks\n",
    "tanks_damage_state_params = {'Minor': (0.18, 0.5), 'Moderate': (0.55, 0.5), 'Extensive': (1.15, 0.6), 'Complete': (1.50, 0.6)}\n",
    "\n",
    "# Define operational levels for each damage state of the tanks\n",
    "tank_operational_levels = {'None': 1.0, 'Minor': 0.9, 'Moderate': 0.8, 'Extensive': 0.6, 'Complete': 0.0}\n",
    "\n",
    "# Function to determine the damage state of a tank based on its PGA value\n",
    "def determine_tank_damage_state(pga):\n",
    "    probabilities = {}\n",
    "    previous_probability = 0\n",
    "    for state, params in tanks_damage_state_params.items():\n",
    "        median, beta = params\n",
    "        exceedance_probability = 1 - lognorm.cdf(pga, s=beta, scale=median)\n",
    "        probabilities[state] = exceedance_probability - previous_probability\n",
    "        previous_probability = exceedance_probability\n",
    "\n",
    "    random_number = random.uniform(0, 1)\n",
    "    damage_state = 'None'\n",
    "    cumulative_probability = 0\n",
    "    for state, probability in probabilities.items():\n",
    "        cumulative_probability += probability\n",
    "        if random_number <= cumulative_probability:\n",
    "            damage_state = state\n",
    "            break\n",
    "    return damage_state\n",
    "\n",
    "# Get the original tank levels\n",
    "original_tank_levels = {tank_name: wn.get_node(tank_name).init_level for tank_name in wn.tank_name_list}\n",
    "\n",
    "# Calculate the distance from the epicenter to each tank\n",
    "tanks_distances = tanks_coordinates.apply(lambda row: great_circle((row['latitude'], row['longitude']), epicenter).meters, axis=1)\n",
    "\n",
    "# Calculate the pga values at the location of each tank\n",
    "tanks_pga = earthquake.pga_attenuation_model(tanks_distances)\n",
    "\n",
    "# Determine the damage state for each tank and adjust its initial water level\n",
    "for tank_name in wn.tank_name_list:\n",
    "    tank = wn.get_node(tank_name)\n",
    "    pga_value = tanks_pga.get(tank_name, 0)  # Get the PGA value for each tank, default to 0 if not found\n",
    "    damage_state = determine_tank_damage_state(pga_value)\n",
    "    operational_level = tank_operational_levels.get(damage_state, 1.0)\n",
    "    # Adjust tank's initial water level based on operational level\n",
    "    tank.init_level = tank.init_level * operational_level  "
   ]
  },
  {
   "cell_type": "markdown",
   "metadata": {},
   "source": [
    "### 3-4- Evaluating Earthquake Effects on Pumps"
   ]
  },
  {
   "cell_type": "markdown",
   "metadata": {},
   "source": [
    "For pumps, serviceability is determined by their operational capacity post-earthquake compared to their original capacity then adjusting capacities to 90%, 80%, 60%, or 0% for minor, moderate, extensive, or complete damage, respectively. \n",
    "\n",
    "In this study, we consider only the physical damage to pumps, which is modeled using fragility curves.\n",
    "\n",
    "Similar to tanks, we employ fragility curves developed by HAZUS-MH for pumps. These curves are also represented as lognormal distributions with PGA as the engineering demand parameter. The corresponding median and lognormal standard deviation (β) values for pumps are as follows:\n",
    "\n",
    "| Damage State | Median (g) | β   |\n",
    "|--------------|------------|-----|\n",
    "| Minor        | 0.15       | 0.75|\n",
    "| Moderate     | 0.36       | 0.65| \n",
    "| Extensive    | 0.77       | 0.65|\n",
    "| Complete     | 1.50       | 0.80|\n",
    "\n",
    "Similar to tanks, pump capacities are reduced to 60%, 80%, and 90% for extensive, moderate, and minor damage states, respectively.|\r\n"
   ]
  },
  {
   "cell_type": "code",
   "execution_count": 7,
   "metadata": {},
   "outputs": [],
   "source": [
    "# Lognormal distribution parameters for each damage state (median, beta) of the pumps\n",
    "pump_damage_state_params = {'Minor': (0.15, 0.75), 'Moderate': (0.36, 0.65), 'Extensive': (0.77, 0.65), 'Complete': (1.5, 0.8)}\n",
    "\n",
    "# Define operational levels for each damage state of the pumps\n",
    "pump_operational_levels = {'None': 1.0, 'Minor': 0.9, 'Moderate': 0.8, 'Extensive': 0.6, 'Complete': 0.0}\n",
    "\n",
    "# Function to determine the damage state of a pump based on its PGA value\n",
    "def determine_pump_damage_state(pga):\n",
    "    probabilities = {}\n",
    "    previous_probability = 0\n",
    "    for state, params in pump_damage_state_params.items():\n",
    "        median, beta = params\n",
    "        exceedance_probability = 1 - lognorm.cdf(pga, s=beta, scale=median)\n",
    "        probabilities[state] = exceedance_probability - previous_probability\n",
    "        previous_probability = exceedance_probability\n",
    "\n",
    "    random_number = random.uniform(0, 1)\n",
    "    damage_state = 'None'\n",
    "    cumulative_probability = 0\n",
    "    for state, probability in probabilities.items():\n",
    "        cumulative_probability += probability\n",
    "        if random_number <= cumulative_probability:\n",
    "            damage_state = state\n",
    "            break\n",
    "    return damage_state\n",
    "\n",
    "# Calculate the distance from the epicenter to each pump\n",
    "pumps_distances = pumps_coordinates.apply(lambda row: great_circle((row['latitude'], row['longitude']), epicenter).meters, axis=1)\n",
    "\n",
    "# Calculate the pga values at the location of each pump\n",
    "pumps_pga = earthquake.pga_attenuation_model(pumps_distances)\n",
    "\n",
    "# Determine the damage state for each pump and adjust its base speed level\n",
    "pump_performance = {}\n",
    "for pump_name in wn.pump_name_list:\n",
    "    pump = wn.get_link(pump_name)\n",
    "    pga_value = pumps_pga.get(pump_name, 0)  # Get the PGA value for each pump, default to 0 if not found\n",
    "    damage_state = determine_pump_damage_state(pga_value)\n",
    "    operational_level = pump_operational_levels.get(damage_state, 1.0)\n",
    "    # pump.base_speed = operational_level\n",
    "\n",
    "    pump_performance[pump_name] = operational_level"
   ]
  },
  {
   "cell_type": "markdown",
   "metadata": {},
   "source": [
    "### 3-5- Analyzing Seismic Vulnerability of Pipelines"
   ]
  },
  {
   "cell_type": "markdown",
   "metadata": {},
   "source": [
    "Based on the American Lifelines Alliance (ALA) guidelines from 2001, the repair rate (RR) is a key indicator to quantify the potential impact of seismic events on the pipeline infrastructure. RR represents the expected number of repairs needed per unit length of pipeline per year due to seismic hazards. In this study, we utilized the WNTR package to estimate the RR for each pipeline, employing the following regression model:\n",
    "$$RR = C \\times 0.000241 \\times PGV$$\n",
    "Where:\n",
    "- $C$ is the correction factor, maps pipe characteristics to weights.\n",
    "- $PGV$ is the peak ground velocity (m/s).\n",
    "- $RR$ is the estimated number of repairs per meter per year due to TGD.\n",
    "\n",
    "After estimating the repair rate, we determine the probability of failure for each pipeline by considering that even one damage is a failure. The probability of failure is calculated as the complement of the probability of zero failures, which follows a Poisson distribution:\n",
    "$$P_f = 1 - e^{-RR \\times \\text{Length}}$$\n",
    "Where:\n",
    "- $P_f$ is the probability of failure of the pipeline.\n",
    "- $RR$ is the repair rate of the pipeline.\n",
    "- $\\text{Length}$ is the length of the pipeline.\n",
    "\n",
    "If the pipeline is deemed to fail (i.e., a random number between 0 and 1 is less than $P_f$), we then predict the number of damages per unit length of the pipeline using a Poisson random number with a mean equal to the repair rate **(Su et al. 1987; Fragiadakis and Christodoulou 2014; Farahmandfar et al. 2016)**.\n",
    "\n",
    "The number of damages ($N_{\\text{damages}}$) should then be divided into leaks ($N_{LKS}$) and breaks ($N_{BKS}$). In general, 15–20% of those damages result in breaks, while the rest represent leaks **(Hwang and Shinozuka 1998)**.\n",
    "$$ N_{LKS} = 0.85 \\times N_{damages} $$\n",
    "$$ N_{BKS} = 0.15 \\times N_{damages} $$\n",
    "\n",
    "Ultimately, to model the damage, we add an orifice with the following opening area to the damaged pipeline **(Farahmandfar and Piratla, 2017)**:\n",
    "$$ A_T = (0.03 \\times N_{LKS} + 0.2 \\times N_{BKS}) \\times A $$\n",
    "Where $A_T$ is the total orifice area and $A$ is the pipeline cross-sectional area.R"
   ]
  },
  {
   "cell_type": "code",
   "execution_count": 8,
   "metadata": {},
   "outputs": [],
   "source": [
    "# Calculate the distance from the epicenter to each pipeline\n",
    "pipelines_distances = pipelines_coordinates.apply(lambda row: great_circle((row['latitude'], row['longitude']), epicenter).meters, axis=1)\n",
    "\n",
    "# Calculate the pgv values at the location of each pipeline in m/s\n",
    "pipelines_pgv = earthquake.pgv_attenuation_model(pipelines_distances)\n",
    "\n",
    "# Calculate the RR values at the location of each pipeline in number of repairs per meter per year\n",
    "RR = earthquake.repair_rate_model(pipelines_pgv, C=0.5)\n",
    "\n",
    "# Get the length of the pipelines from EPANET in ft and convert it to m\n",
    "link_length = pd.Series(wn.query_link_attribute('length', link_type=wntr.network.Pipe)) * 0.3048\n",
    "\n",
    "# Predict the number of damages per meter using a Poisson distribution\n",
    "num_damages = {int(pipe): poisson.rvs(mu=repair_rate * link_length.iloc[int(pipe)]) for pipe, repair_rate in RR.items()}\n",
    "\n",
    "# Divide the num_damages into leaks (85%) and breaks (15%)\n",
    "leaks_breaks = {int(pipe): (int(0.85 * damage), int(0.15 * damage)) for pipe, damage in num_damages.items()}\n",
    "\n",
    "# Get the diameters of the pipelines from EPANET in m\n",
    "diameters = {int(pipe_name): wn.get_link(pipe_name).diameter for pipe_name in wn.pipe_name_list}\n",
    "\n",
    "# Calculate the cross-sectional area of each pipeline (A = π * (d/2)^2)\n",
    "areas = {pipe_name: np.pi * (d / 2) ** 2 for pipe_name, d in diameters.items()}\n",
    "\n",
    "# Calculate the total orifice area (m2) for each damaged pipeline\n",
    "orifice_areas = {pipe: min((0.03 * leaks + 0.2 * breaks) * areas[pipe], areas[pipe]) for pipe, (leaks, breaks) in leaks_breaks.items()}\n",
    "\n",
    "# Adding orifice areas to pipelines in WNTR\n",
    "for pipe, orifice_area in orifice_areas.items():\n",
    "    # Calculate the probability of failure for the pipeline\n",
    "    pf = 1 - np.exp(-RR[int(pipe)] * link_length.iloc[int(pipe)])\n",
    "    \n",
    "    # Check if the pipeline fails\n",
    "    if np.random.uniform() < pf:\n",
    "        # Split the pipe and add a leak with the calculated orifice area\n",
    "        wn = wntr.morph.split_pipe(wn, str(pipe), f\"{pipe}_A\", f\"Leak_{pipe}\")\n",
    "        leak_node = wn.get_node(f\"Leak_{pipe}\")\n",
    "        leak_node.add_leak(wn, area=orifice_area, start_time=leak_start_time, end_time=leak_end_time)"
   ]
  },
  {
   "cell_type": "markdown",
   "metadata": {},
   "source": [
    "### 3-6- Running Hydraulic Simultion for the Damaged WDS"
   ]
  },
  {
   "cell_type": "markdown",
   "metadata": {},
   "source": [
    "In this section, we perform a hydraulic simulation of the WDS using the WNTRSimulator. The simulation results are then used to calculate the serviceability of different components in the WDS.\n",
    "\n",
    "Serviceability is a measure of how well the system is able to meet the required demands after an event such as an earthquake. It is calculated differently for tanks, junctions, and pumps:\n",
    "\n",
    "- **Tanks:** Serviceability is defined as the ratio of the new average tank level to the original tank level. This indicates how much water is available in the tank compared to its initial level.\n",
    "\n",
    "- **Junctions:** Serviceability is the ratio of the average satisfied demand to the required demand at each junction. This shows how well the junctions are able to meet the water demand.\n",
    "\n",
    "- **Pumps:** Serviceability is based on the operational status of the pumps. It is a binary value indicating whether the pump is operational (1) or not (0)."
   ]
  },
  {
   "cell_type": "code",
   "execution_count": 9,
   "metadata": {},
   "outputs": [
    {
     "name": "stderr",
     "output_type": "stream",
     "text": [
      "/opt/conda/lib/python3.11/site-packages/wntr/sim/hydraulics.py:274: UserWarning: Pump P1 has exceeded its maximum flow.\n",
      "  warnings.warn('Pump ' + name + ' has exceeded its maximum flow.')\n",
      "/opt/conda/lib/python3.11/site-packages/wntr/sim/hydraulics.py:274: UserWarning: Pump P2 has exceeded its maximum flow.\n",
      "  warnings.warn('Pump ' + name + ' has exceeded its maximum flow.')\n",
      "/opt/conda/lib/python3.11/site-packages/wntr/sim/hydraulics.py:274: UserWarning: Pump P3 has exceeded its maximum flow.\n",
      "  warnings.warn('Pump ' + name + ' has exceeded its maximum flow.')\n",
      "/opt/conda/lib/python3.11/site-packages/wntr/sim/hydraulics.py:274: UserWarning: Pump P5 has exceeded its maximum flow.\n",
      "  warnings.warn('Pump ' + name + ' has exceeded its maximum flow.')\n",
      "/opt/conda/lib/python3.11/site-packages/wntr/sim/hydraulics.py:274: UserWarning: Pump P6 has exceeded its maximum flow.\n",
      "  warnings.warn('Pump ' + name + ' has exceeded its maximum flow.')\n",
      "/opt/conda/lib/python3.11/site-packages/wntr/sim/hydraulics.py:274: UserWarning: Pump P7 has exceeded its maximum flow.\n",
      "  warnings.warn('Pump ' + name + ' has exceeded its maximum flow.')\n",
      "/opt/conda/lib/python3.11/site-packages/wntr/sim/hydraulics.py:274: UserWarning: Pump P8 has exceeded its maximum flow.\n",
      "  warnings.warn('Pump ' + name + ' has exceeded its maximum flow.')\n",
      "/opt/conda/lib/python3.11/site-packages/wntr/sim/hydraulics.py:274: UserWarning: Pump P4 has exceeded its maximum flow.\n",
      "  warnings.warn('Pump ' + name + ' has exceeded its maximum flow.')\n",
      "/opt/conda/lib/python3.11/site-packages/wntr/sim/hydraulics.py:274: UserWarning: Pump P9 has exceeded its maximum flow.\n",
      "  warnings.warn('Pump ' + name + ' has exceeded its maximum flow.')\n"
     ]
    },
    {
     "name": "stdout",
     "output_type": "stream",
     "text": [
      "Serviceability of Nodes:\n",
      "16: 0.36\n",
      "17: 0.37\n",
      "18: 0.10\n",
      "19: 0.04\n",
      "20: 0.06\n",
      "21: 0.46\n",
      "22: 0.04\n",
      "23: 0.04\n",
      "24: 0.08\n",
      "25: 0.04\n",
      "26: 0.08\n",
      "27: 0.04\n",
      "28: 0.08\n",
      "29: 0.04\n",
      "30: 0.08\n",
      "31: 0.05\n",
      "32: 0.08\n",
      "33: 0.04\n",
      "34: 0.04\n",
      "35: 0.07\n",
      "36: 0.08\n",
      "37: 0.05\n",
      "38: 0.16\n",
      "39: 0.05\n",
      "40: 0.05\n",
      "41: 0.16\n",
      "42: 0.16\n",
      "43: 0.12\n",
      "44: 0.12\n",
      "45: 0.11\n",
      "46: 0.12\n",
      "47: 0.12\n",
      "48: 0.12\n",
      "49: 0.16\n",
      "T1: 0.52\n",
      "T2: 0.53\n",
      "T3: 0.50\n",
      "T4: 0.75\n",
      "T5: 0.59\n",
      "T6: 0.42\n",
      "P1: 0.00\n",
      "P2: 0.80\n",
      "P3: 0.60\n",
      "P4: 0.80\n",
      "P5: 0.00\n",
      "P6: 1.00\n",
      "P7: 0.90\n",
      "P8: 0.00\n",
      "P9: 0.80\n"
     ]
    }
   ],
   "source": [
    "# Run a hydraulic simulation\n",
    "sim = wntr.sim.WNTRSimulator(wn)\n",
    "results = sim.run_sim()\n",
    "\n",
    "# Calculate serviceability\n",
    "serviceability = {}\n",
    "for node_name in wn.node_name_list:\n",
    "    if node_name in wn.tank_name_list:\n",
    "        # For tanks, serviceability is the ratio of new tank level to original tank level\n",
    "        new_tanks_level = results.node['head'].loc[:, node_name].mean() - wn.get_node(node_name).elevation\n",
    "        serviceability[node_name] = new_tanks_level / original_tank_levels[node_name]\n",
    "    elif node_name in wn.junction_name_list:\n",
    "        # For junctions, serviceability is the ratio of satisfied demand to required demand        \n",
    "        satisfied_demand = results.node['demand'].loc[:, node_name].mean()\n",
    "        required_demand = wntr.metrics.expected_demand(wn)[node_name].mean()\n",
    "        if required_demand == 0:\n",
    "            # Skip the node if the required demand is zero\n",
    "            continue\n",
    "        serviceability[node_name] = satisfied_demand / required_demand\n",
    "\n",
    "for pump_name in wn.pump_name_list:\n",
    "    # For pumps, serviceability is based on their operational level\n",
    "    serviceability[pump_name] = pump_performance[pump_name] \n",
    "\n",
    "# Print serviceability of nodes\n",
    "print(\"Serviceability of Nodes:\")\n",
    "for node, value in serviceability.items():\n",
    "    if isinstance(value, pd.Series):\n",
    "        # If value is a Series, take the first element\n",
    "        value = value.iloc[0]\n",
    "    print(f\"{node}: {value:.2f}\")"
   ]
  }
 ],
 "metadata": {
  "kernelspec": {
   "display_name": "Python 3 (ipykernel)",
   "language": "python",
   "name": "python3"
  },
  "language_info": {
   "codemirror_mode": {
    "name": "ipython",
    "version": 3
   },
   "file_extension": ".py",
   "mimetype": "text/x-python",
   "name": "python",
   "nbconvert_exporter": "python",
   "pygments_lexer": "ipython3",
   "version": "3.11.4"
  }
 },
 "nbformat": 4,
 "nbformat_minor": 4
}
